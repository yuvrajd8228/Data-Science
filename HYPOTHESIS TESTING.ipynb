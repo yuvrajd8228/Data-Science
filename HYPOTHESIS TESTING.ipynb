{
 "cells": [
  {
   "cell_type": "code",
   "execution_count": 1,
   "id": "940ab4bd",
   "metadata": {},
   "outputs": [],
   "source": [
    "import numpy as np\n",
    "from scipy.stats import t"
   ]
  },
  {
   "cell_type": "code",
   "execution_count": 2,
   "id": "18f4751a",
   "metadata": {},
   "outputs": [],
   "source": [
    "# Given data\n",
    "sample_mean = 3050  # sample mean weekly cost (Rs.)\n",
    "theoretical_mean = 1000 + 5 * 600  # theoretical mean weekly cost according to the cost model (W = $1,000 + $5X for X = 600 units)\n",
    "standard_deviation = 5 * 25  # standard deviation of the population\n",
    "sample_size = 25  # sample size\n",
    "alpha = 0.05  # significance level"
   ]
  },
  {
   "cell_type": "code",
   "execution_count": 3,
   "id": "5d21fdd6",
   "metadata": {},
   "outputs": [],
   "source": [
    "# Calculate the test statistic (t)\n",
    "standard_error = standard_deviation / np.sqrt(sample_size)\n",
    "t_statistic = (sample_mean - theoretical_mean) / standard_error"
   ]
  },
  {
   "cell_type": "code",
   "execution_count": 4,
   "id": "0539d319",
   "metadata": {},
   "outputs": [
    {
     "name": "stdout",
     "output_type": "stream",
     "text": [
      "standard error 25.0\n",
      "t statistic -38.0\n"
     ]
    }
   ],
   "source": [
    "print(\"standard error\",standard_error)\n",
    "print(\"t statistic\",t_statistic)"
   ]
  },
  {
   "cell_type": "code",
   "execution_count": 5,
   "id": "cc638346",
   "metadata": {},
   "outputs": [],
   "source": [
    "# Determine the critical value from the t-distribution\n",
    "degrees_of_freedom = sample_size - 1\n",
    "critical_value = t.ppf(1 - alpha, degrees_of_freedom)"
   ]
  },
  {
   "cell_type": "code",
   "execution_count": 6,
   "id": "860994da",
   "metadata": {},
   "outputs": [
    {
     "data": {
      "text/plain": [
       "1.7108820799094275"
      ]
     },
     "execution_count": 6,
     "metadata": {},
     "output_type": "execute_result"
    }
   ],
   "source": [
    "critical_value"
   ]
  },
  {
   "cell_type": "code",
   "execution_count": null,
   "id": "9b9a8ea1",
   "metadata": {},
   "outputs": [],
   "source": []
  }
 ],
 "metadata": {
  "kernelspec": {
   "display_name": "Python 3 (ipykernel)",
   "language": "python",
   "name": "python3"
  },
  "language_info": {
   "codemirror_mode": {
    "name": "ipython",
    "version": 3
   },
   "file_extension": ".py",
   "mimetype": "text/x-python",
   "name": "python",
   "nbconvert_exporter": "python",
   "pygments_lexer": "ipython3",
   "version": "3.11.5"
  }
 },
 "nbformat": 4,
 "nbformat_minor": 5
}
